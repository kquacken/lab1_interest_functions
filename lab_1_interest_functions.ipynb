{
  "cells": [
    {
      "cell_type": "markdown",
      "metadata": {
        "id": "view-in-github",
        "colab_type": "text"
      },
      "source": [
        "<a href=\"https://colab.research.google.com/github/kquacken/lab1_interest_functions/blob/master/lab_1_interest_functions.ipynb\" target=\"_parent\"><img src=\"https://colab.research.google.com/assets/colab-badge.svg\" alt=\"Open In Colab\"/></a>"
      ]
    },
    {
      "cell_type": "markdown",
      "metadata": {
        "id": "HYn4LJ6cfkkd"
      },
      "source": [
        "## Lab 1 - Compound Interest Functions\n",
        "\n",
        "Below you will find a table of important formulae related to compound interest.  \n",
        "\n",
        "<img src=\"https://www.dummies.com/wp-content/uploads/251689.image0.jpg\" alt=\"image0.jpg\" width=\"400\" height=\"319\">\n",
        "\n",
        "In this lab, you will create functions for each of these using (and documenting) the following workflow.\n",
        "\n",
        "1. Work out the correct answer for a few examples. *Hint* Search for e.g. \"worked out compound interest examples\" on the web.\n",
        "2. Write a `lambda` function and test this function on your test cases.\n",
        "3. Convert the `lambda` function to a `def` statement with an informative doc string that follows the [Google formating rules](https://google.github.io/styleguide/pyguide.html#383-functions-and-methods).\n",
        "4. Write an automated test function (using your previous examples) that will test your `def` statement function each time the code is executed."
      ]
    },
    {
      "cell_type": "markdown",
      "metadata": {
        "id": "InYmoeqbfkkf"
      },
      "source": [
        "#### Problem 1 -- Apply the process to create a simple interest functions."
      ]
    },
    {
      "cell_type": "code",
      "execution_count": 31,
      "metadata": {
        "id": "MZDMFawifkkf",
        "outputId": "7a1cb1ed-729b-40ec-8149-f03377541f2a",
        "colab": {
          "base_uri": "https://localhost:8080/"
        }
      },
      "outputs": [
        {
          "output_type": "execute_result",
          "data": {
            "text/plain": [
              "30000.0"
            ]
          },
          "metadata": {},
          "execution_count": 31
        }
      ],
      "source": [
        "#Step One\n",
        "P = 20000\n",
        "r = .1\n",
        "t = 15\n",
        "simple=P*r*t\n",
        "simple"
      ]
    },
    {
      "cell_type": "code",
      "source": [
        "#Step Two\n",
        "simple = lambda P, r, t: P*r*t\n",
        "simple(20000,0.1,15)"
      ],
      "metadata": {
        "id": "ICx77oDZjpIp",
        "outputId": "596e4bbb-c6d5-4ca8-fed1-58626dd9785f",
        "colab": {
          "base_uri": "https://localhost:8080/"
        }
      },
      "execution_count": 30,
      "outputs": [
        {
          "output_type": "execute_result",
          "data": {
            "text/plain": [
              "30000.0"
            ]
          },
          "metadata": {},
          "execution_count": 30
        }
      ]
    },
    {
      "cell_type": "code",
      "source": [
        "#Step Three\n",
        "def simple(P,r,t):\n",
        "    \"\"\"Calculates simple interest rate.\n",
        "\n",
        "    Args:\n",
        "      P: principal\n",
        "      r: interest rate\n",
        "      t: time in years\n",
        "  \n",
        "    Returns: simple interest rate\n",
        "    \"\"\"\n",
        "    output = P*r*t\n",
        "    return output"
      ],
      "metadata": {
        "id": "HI8wdA5ulbxd"
      },
      "execution_count": 32,
      "outputs": []
    },
    {
      "cell_type": "code",
      "source": [
        "#Step Four\n",
        "def test_simple():\n",
        "    assert simple(200000,0.1,15) == 300000\n",
        "    assert simple(15000,0.4,5) == 30000\n",
        "test_simple()"
      ],
      "metadata": {
        "id": "zpnTM98nmQ2p"
      },
      "execution_count": 33,
      "outputs": []
    },
    {
      "cell_type": "markdown",
      "metadata": {
        "id": "CO_2VvVbfkkg"
      },
      "source": [
        "#### Problem 2 -- Apply the process to create a compound interest functions."
      ]
    },
    {
      "cell_type": "code",
      "execution_count": 7,
      "metadata": {
        "id": "KIbFKqu-fkkg",
        "colab": {
          "base_uri": "https://localhost:8080/"
        },
        "outputId": "ba6e6079-9623-4300-98bb-b2c1d6ec82ef"
      },
      "outputs": [
        {
          "output_type": "execute_result",
          "data": {
            "text/plain": [
              "221964.02"
            ]
          },
          "metadata": {},
          "execution_count": 7
        }
      ],
      "source": [
        "#Step One\n",
        "P = 100000\n",
        "r = 0.08\n",
        "n = 12\n",
        "t = 10\n",
        "compound = round(P*(1+(r/n))**(n*t),2)\n",
        "compound"
      ]
    },
    {
      "cell_type": "code",
      "source": [
        "#Step Two\n",
        "compound = lambda P, r, n, t:round(P*(1+(r/n))**(n*t),2)\n",
        "compound(100000,0.08,12,10)"
      ],
      "metadata": {
        "colab": {
          "base_uri": "https://localhost:8080/"
        },
        "id": "WNneyAONPsCZ",
        "outputId": "e0c8f845-fdfc-485a-d983-aeae5cbe4aa6"
      },
      "execution_count": 17,
      "outputs": [
        {
          "output_type": "execute_result",
          "data": {
            "text/plain": [
              "221964.02"
            ]
          },
          "metadata": {},
          "execution_count": 17
        }
      ]
    },
    {
      "cell_type": "code",
      "source": [
        "#Step Three\n",
        "def compound(P,r,n,t):\n",
        "    \"\"\"Calculates compound interest rate.\n",
        "\n",
        "    Args:\n",
        "      P: principal\n",
        "      r: interest rate\n",
        "      n: compoundings\n",
        "      t: time in years\n",
        "  \n",
        "    Returns: compound interest rate\n",
        "    \"\"\"\n",
        "    output = round(P*(1+(r/n))**(n*t),2)\n",
        "    return output\n",
        "compound(20000,0.05,12,5)"
      ],
      "metadata": {
        "colab": {
          "base_uri": "https://localhost:8080/"
        },
        "id": "zGByT0V8QAOn",
        "outputId": "9b47449a-91e2-4bc2-a681-4e8d2ba52fc0"
      },
      "execution_count": 28,
      "outputs": [
        {
          "output_type": "execute_result",
          "data": {
            "text/plain": [
              "25667.17"
            ]
          },
          "metadata": {},
          "execution_count": 28
        }
      ]
    },
    {
      "cell_type": "code",
      "source": [
        "#Step Four\n",
        "def test_compound():\n",
        "    assert compound(10000,0.08,12,10) == 22196.4\n",
        "    assert compound(200000,0.05,12,5) == 256671.74\n",
        "test_compound()"
      ],
      "metadata": {
        "id": "g79Bk38eSjoO"
      },
      "execution_count": 26,
      "outputs": []
    },
    {
      "cell_type": "markdown",
      "metadata": {
        "id": "sYpRLxLXfkkh"
      },
      "source": [
        "#### Problem 3 -- Apply the process to create a amortized loan payment function."
      ]
    },
    {
      "cell_type": "code",
      "execution_count": 40,
      "metadata": {
        "id": "VOWQoEjcfkkh",
        "colab": {
          "base_uri": "https://localhost:8080/"
        },
        "outputId": "d51ec6b8-0717-4626-a08d-5b1fe5628cd1"
      },
      "outputs": [
        {
          "output_type": "execute_result",
          "data": {
            "text/plain": [
              "941.47"
            ]
          },
          "metadata": {},
          "execution_count": 40
        }
      ],
      "source": [
        "#Step One\n",
        "P = 20000\n",
        "i = 0.01\n",
        "n = 24\n",
        "amortized = round((P*i)/(1-(1+i)**(-n)),2)\n",
        "amortized"
      ]
    },
    {
      "cell_type": "code",
      "source": [
        "#Step Two\n",
        "amortized = lambda P,i,n: round((P*i)/(1-(1+i)**(-n)),2)\n",
        "amortized(20000,0.01,24)"
      ],
      "metadata": {
        "colab": {
          "base_uri": "https://localhost:8080/"
        },
        "id": "fpPB8fZiYQY3",
        "outputId": "d5d3e14e-187f-493d-e837-ef83f33655b6"
      },
      "execution_count": 39,
      "outputs": [
        {
          "output_type": "execute_result",
          "data": {
            "text/plain": [
              "941.47"
            ]
          },
          "metadata": {},
          "execution_count": 39
        }
      ]
    },
    {
      "cell_type": "code",
      "source": [
        "#Step Three\n",
        "def amortized(P,i,n):\n",
        "    \"\"\"Calculates an amortized loan payment.\n",
        "\n",
        "    Args:\n",
        "      P: amount borrowed\n",
        "      i: interest rate per pay period\n",
        "      n: number of payments\n",
        "  \n",
        "    Returns: amortized loan payment\n",
        "    \"\"\"\n",
        "    output = round((P*i)/(1-(1+i)**(-n)),2)\n",
        "    return output\n",
        "amortized(20000,0.05,12)"
      ],
      "metadata": {
        "colab": {
          "base_uri": "https://localhost:8080/"
        },
        "id": "ZoZ2VZPxYkXD",
        "outputId": "27e5fc38-1350-4fd1-b359-c16b44741505"
      },
      "execution_count": 41,
      "outputs": [
        {
          "output_type": "execute_result",
          "data": {
            "text/plain": [
              "2256.51"
            ]
          },
          "metadata": {},
          "execution_count": 41
        }
      ]
    },
    {
      "cell_type": "code",
      "source": [
        "def test_amortized():\n",
        "    assert amortized(25000,0.05,12) == 2820.64\n",
        "    assert amortized(30000,0.01,24) == 1412.2"
      ],
      "metadata": {
        "id": "fSb0xOP7aUbf"
      },
      "execution_count": 42,
      "outputs": []
    },
    {
      "cell_type": "markdown",
      "metadata": {
        "id": "ydASEncufkkh"
      },
      "source": [
        "#### Problem 4 -- Apply the process to create a remaining balance function"
      ]
    },
    {
      "cell_type": "code",
      "execution_count": 44,
      "metadata": {
        "id": "Aom3q52qfkkh",
        "colab": {
          "base_uri": "https://localhost:8080/"
        },
        "outputId": "0fdc7cb4-58e3-4784-80fd-5d9ae08934b2"
      },
      "outputs": [
        {
          "output_type": "execute_result",
          "data": {
            "text/plain": [
              "9428.49"
            ]
          },
          "metadata": {},
          "execution_count": 44
        }
      ],
      "source": [
        "#Step One\n",
        "R = 500\n",
        "i = 0.01\n",
        "n = 24\n",
        "x = 3\n",
        "remaining = round(R*((1-(1+i)**-(n-x))/i),2)\n",
        "remaining"
      ]
    },
    {
      "cell_type": "code",
      "source": [
        "#Step Two\n",
        "remaining = lambda R,i,n,x: round(R*((1-(1+i)**-(n-x))/i),2)\n",
        "remaining(500,0.01,24,3)"
      ],
      "metadata": {
        "colab": {
          "base_uri": "https://localhost:8080/"
        },
        "id": "zHLkNe6_b0vp",
        "outputId": "5af1b958-2a9c-4e75-b4a8-b7e0ef032600"
      },
      "execution_count": 45,
      "outputs": [
        {
          "output_type": "execute_result",
          "data": {
            "text/plain": [
              "9428.49"
            ]
          },
          "metadata": {},
          "execution_count": 45
        }
      ]
    },
    {
      "cell_type": "code",
      "source": [
        "#Step Three\n",
        "def remaining(R,i,n,x):\n",
        "    \"\"\"Calculates remaining balance.\n",
        "\n",
        "    Args:\n",
        "      R: regular payment\n",
        "      i: interest rate per period\n",
        "      n: number of payments\n",
        "      x: number of payments already made\n",
        "  \n",
        "    Returns: remaining balance\n",
        "    \"\"\"\n",
        "    output = round(R*((1-(1+i)**-(n-x))/i),2)\n",
        "    return output\n",
        "remaining(1000,0.005,48,7)"
      ],
      "metadata": {
        "colab": {
          "base_uri": "https://localhost:8080/"
        },
        "id": "t2BYFG8Wb0ss",
        "outputId": "51a767ac-8091-410d-e053-d6babadeca78"
      },
      "execution_count": 47,
      "outputs": [
        {
          "output_type": "execute_result",
          "data": {
            "text/plain": [
              "36987.29"
            ]
          },
          "metadata": {},
          "execution_count": 47
        }
      ]
    },
    {
      "cell_type": "code",
      "source": [
        "#Step Four\n",
        "def test_remaining():\n",
        "    assert remaining(2000,0.05,48,7) == 34588.74\n",
        "    assert remaining(500,0.03,12,8) == 1858.55"
      ],
      "metadata": {
        "id": "dQrIsO04b0pc"
      },
      "execution_count": 48,
      "outputs": []
    }
  ],
  "metadata": {
    "kernelspec": {
      "display_name": "Python 3",
      "language": "python",
      "name": "python3"
    },
    "language_info": {
      "codemirror_mode": {
        "name": "ipython",
        "version": 3
      },
      "file_extension": ".py",
      "mimetype": "text/x-python",
      "name": "python",
      "nbconvert_exporter": "python",
      "pygments_lexer": "ipython3",
      "version": "3.7.2"
    },
    "colab": {
      "provenance": [],
      "name": "Copy of lab_1_interest_functions.ipynb",
      "include_colab_link": true
    }
  },
  "nbformat": 4,
  "nbformat_minor": 0
}